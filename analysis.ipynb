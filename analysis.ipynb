{
 "cells": [
  {
   "cell_type": "code",
   "execution_count": 2,
   "id": "4cb368a3-1ea5-4cbf-aa20-95cffa75f834",
   "metadata": {},
   "outputs": [],
   "source": [
    "import pandas as pd\n",
    "import numpy as np\n",
    "import matplotlib.pyplot as plt"
   ]
  },
  {
   "cell_type": "code",
   "execution_count": 11,
   "id": "3e731e1c-3d89-4b6c-83ce-e72580f3aa76",
   "metadata": {},
   "outputs": [],
   "source": [
    "df = pd.read_csv('./data/WEBSTATS_LONG_PP_DATAFLOW_csv_col.csv') # File is Property Prices for each countries in the world each quarter\n",
    "df = df.dropna(axis='columns')\n",
    "df.sort_values('2018-Q1')\n",
    "df.to_excel('output.xlsx')"
   ]
  },
  {
   "cell_type": "code",
   "execution_count": null,
   "id": "550475b6-f86f-4278-8008-635b01dbc468",
   "metadata": {},
   "outputs": [],
   "source": [
    "x = df['Reference area']\n",
    "y = df['2018-Q2']\n",
    "plt.figure(figsize = (40,8))\n",
    "\n",
    "plt.plot(x,y)\n",
    "plt.plot(x,y, 'o')"
   ]
  },
  {
   "cell_type": "code",
   "execution_count": null,
   "id": "1fc6bd88-874a-4640-9934-09166a679da7",
   "metadata": {},
   "outputs": [],
   "source": []
  }
 ],
 "metadata": {
  "kernelspec": {
   "display_name": "Python 3 (ipykernel)",
   "language": "python",
   "name": "python3"
  },
  "language_info": {
   "codemirror_mode": {
    "name": "ipython",
    "version": 3
   },
   "file_extension": ".py",
   "mimetype": "text/x-python",
   "name": "python",
   "nbconvert_exporter": "python",
   "pygments_lexer": "ipython3",
   "version": "3.8.16"
  }
 },
 "nbformat": 4,
 "nbformat_minor": 5
}
